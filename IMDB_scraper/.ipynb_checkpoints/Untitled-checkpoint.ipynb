{
 "cells": [
  {
   "cell_type": "code",
   "execution_count": 2,
   "id": "9adc903c",
   "metadata": {},
   "outputs": [
    {
     "name": "stdout",
     "output_type": "stream",
     "text": [
      "['Luke Barnes', '/span']\n",
      "Luke Barnes\n"
     ]
    }
   ],
   "source": [
    "temp = '<span class=\"itemprop\">Luke Barnes</span>'\n",
    "\n",
    "x=temp.split('>')\n",
    "y=x[1].split('<')\n",
    "print(y)\n",
    "name_desired = y[0]\n",
    "print(name_desired)"
   ]
  },
  {
   "cell_type": "code",
   "execution_count": 11,
   "id": "9211da69",
   "metadata": {},
   "outputs": [
    {
     "name": "stdout",
     "output_type": "stream",
     "text": [
      "Rocketry: The Nambi Effect\n"
     ]
    }
   ],
   "source": [
    "temp = \"[<Selector xpath='descendant-or-self::a/text()' data='Rocketry: The Nambi Effect'>, <Selector xpath='descendant-or-self::a/text()' data='completed'>]\"\n",
    "x=temp.split(\"'\")\n",
    "print(x[3])"
   ]
  }
 ],
 "metadata": {
  "kernelspec": {
   "display_name": "Python 3",
   "language": "python",
   "name": "python3"
  },
  "language_info": {
   "codemirror_mode": {
    "name": "ipython",
    "version": 3
   },
   "file_extension": ".py",
   "mimetype": "text/x-python",
   "name": "python",
   "nbconvert_exporter": "python",
   "pygments_lexer": "ipython3",
   "version": "3.8.8"
  }
 },
 "nbformat": 4,
 "nbformat_minor": 5
}
